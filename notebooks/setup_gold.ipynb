{
 "cells": [
  {
   "cell_type": "code",
   "execution_count": 1,
   "metadata": {},
   "outputs": [
    {
     "data": {
      "text/plain": [
       "Index(['APOGEE_ID', 'GAIA_SOURCE_ID', 'parallax', 'parallax_unc',\n",
       "       'phot_g_mean_flux', 'phot_g_mean_flux_error',\n",
       "       'phot_g_mean_flux_over_error', 'G_mag', 'phot_bp_mean_flux',\n",
       "       'phot_bp_mean_flux_error', 'phot_bp_mean_flux_over_error', 'BP_mag',\n",
       "       'phot_rp_mean_flux', 'phot_rp_mean_flux_error',\n",
       "       'phot_rp_mean_flux_over_error', 'RP_mag', 'J_mag', 'J_mag_unc', 'H_mag',\n",
       "       'H_mag_unc', 'K_mag', 'K_mag_unc', 'IRAC_3.6_mag', 'IRAC_3.6_mag_unc',\n",
       "       'IRAC_4_5', 'IRAC_4_5_ERR', 'IRAC_5.8_mag', 'IRAC_5.8_mag_unc',\n",
       "       'IRAC_8_0', 'IRAC_8_0_ERR', 'W2_mag', 'W2_mag_unc', 'G_mag_unc',\n",
       "       'BP_mag_unc', 'RP_mag_unc'],\n",
       "      dtype='object')"
      ]
     },
     "execution_count": 1,
     "metadata": {},
     "output_type": "execute_result"
    }
   ],
   "source": [
    "import pandas as pd\n",
    "import numpy as np\n",
    "\n",
    "df = pd.read_hdf('../data/gold_photometry.hdf')\n",
    "\n",
    "column_map = dict(phot_g_mean_mag='G_mag', phot_bp_mean_mag='BP_mag', phot_rp_mean_mag='RP_mag',\n",
    "                  J='J_mag', J_ERR='J_mag_unc', H='H_mag', H_ERR='H_mag_unc', K='K_mag', K_ERR='K_mag_unc', \n",
    "                  IRAC_3_6='IRAC_3.6_mag', IRAC_3_6_ERR='IRAC_3.6_mag_unc', \n",
    "                  IRAC_5_8='IRAC_5.8_mag', IRAC_5_8_ERR='IRAC_5.8_mag_unc',\n",
    "                  WISE_4_5='W2_mag', WISE_4_5_ERR='W2_mag_unc',\n",
    "                  parallax_error='parallax_unc')\n",
    "\n",
    "df = df.rename(columns=column_map)\n",
    "\n",
    "# Gaia mag uncertainties (http://gaia.ari.uni-heidelberg.de/gaia-workshop-2018/files/Gaia_DR2_photometry.pdf, slide 27)\n",
    "gaia_sys_unc = 0.02  \n",
    "\n",
    "df['G_mag_unc'] = np.sqrt((1.086 / df['phot_g_mean_flux_over_error'])**2 + gaia_sys_unc**2)\n",
    "df['BP_mag_unc'] = np.sqrt((1.086 / df['phot_bp_mean_flux_over_error'])**2 + gaia_sys_unc**2)\n",
    "df['RP_mag_unc'] = np.sqrt((1.086 / df['phot_rp_mean_flux_over_error'])**2 + gaia_sys_unc**2)\n",
    "\n",
    "# Gaia parallax offsets/errors (https://www.aanda.org/articles/aa/full_html/2019/08/aa35765-19/T1.html)\n",
    "bright = df['G_mag'] < 14\n",
    "medium = np.logical_and(df['G_mag'] < 16.5, df['G_mag'] > 14)\n",
    "faint = 16.5 < df['G_mag']\n",
    "\n",
    "df.loc[bright, 'parallax'] += 0.05\n",
    "df.loc[medium, 'parallax'] += 0.1676 - 0.0084 * df.loc[medium, 'G_mag']\n",
    "df.loc[faint, 'parallax'] += 0.029\n",
    "\n",
    "bright = df['G_mag'] < 11\n",
    "medium = np.logical_and(df['G_mag'] < 15, df['G_mag'] > 11)\n",
    "faint = 15 < df['G_mag']\n",
    "\n",
    "df.loc[bright, 'parallax_unc'] = df.loc[bright, 'parallax_unc'] * 1.2\n",
    "df.loc[medium, 'parallax_unc'] = df.loc[medium, 'parallax_unc'] * (0.22 * df.loc[medium, 'G_mag'] - 1.22)\n",
    "df.loc[faint, 'parallax_unc'] = df.loc[faint, 'parallax_unc'] * (np.exp(-(df.loc[faint, 'G_mag'] - 15)) + 1.08)\n",
    "\n",
    "df.index = df.GAIA_SOURCE_ID\n",
    "df.columns"
   ]
  },
  {
   "cell_type": "code",
   "execution_count": 2,
   "metadata": {},
   "outputs": [],
   "source": [
    "from isochrones.catalog import StarCatalog\n",
    "\n",
    "cat = StarCatalog(df, props=['parallax'], bands=['G', 'BP', 'RP', 'J', 'H', 'K'])"
   ]
  },
  {
   "cell_type": "code",
   "execution_count": 3,
   "metadata": {},
   "outputs": [],
   "source": [
    "cat.write_ini(N=2, root='../results')"
   ]
  },
  {
   "cell_type": "code",
   "execution_count": null,
   "metadata": {},
   "outputs": [],
   "source": []
  }
 ],
 "metadata": {
  "kernelspec": {
   "display_name": "Python 3",
   "language": "python",
   "name": "python3"
  },
  "language_info": {
   "codemirror_mode": {
    "name": "ipython",
    "version": 3
   },
   "file_extension": ".py",
   "mimetype": "text/x-python",
   "name": "python",
   "nbconvert_exporter": "python",
   "pygments_lexer": "ipython3",
   "version": "3.7.5"
  }
 },
 "nbformat": 4,
 "nbformat_minor": 4
}
